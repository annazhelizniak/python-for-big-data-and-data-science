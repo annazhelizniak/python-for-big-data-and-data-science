{
 "nbformat": 4,
 "nbformat_minor": 0,
 "metadata": {
  "colab": {
   "provenance": []
  },
  "kernelspec": {
   "name": "python3",
   "language": "python",
   "display_name": "Python 3 (ipykernel)"
  },
  "language_info": {
   "name": "python"
  }
 },
 "cells": [
  {
   "cell_type": "markdown",
   "source": [
    "# I. Оператори порівняння та логічні оператори. Умови."
   ],
   "metadata": {
    "id": "qDEi2Pi-4yUC"
   }
  },
  {
   "cell_type": "markdown",
   "source": [
    "1. Створіть цілочисленну змінну зі своїм щасливим або улюбленим числом. Напишіть код, який би автоматизовував наступну задачу.\n",
    "\n",
    "Якщо число парне, помножте його на 2 та виведіть результат на екран.\n",
    "\n",
    "Але якщо число непарне, помножте його на 3 та додайте 1 і виведіть на екран."
   ],
   "metadata": {
    "id": "3v8D4Dkm43Ua"
   }
  },
  {
   "cell_type": "code",
   "execution_count": 1,
   "metadata": {
    "id": "dlVjc-Nu4bmb",
    "colab": {
     "base_uri": "https://localhost:8080/"
    },
    "outputId": "819ca86f-70b0-425e-a76b-7eb8d4e6c01b"
   },
   "outputs": [
    {
     "output_type": "stream",
     "name": "stdout",
     "text": [
      "Lucky number = 12\n",
      "Lucky result number = 24\n"
     ]
    }
   ],
   "source": [
    "lucky_number = 12\n",
    "print(f\"Lucky number = {lucky_number}\")\n",
    "if lucky_number % 2 == 0:\n",
    "  lucky_number *= 2\n",
    "else:\n",
    "  lucky_number = lucky_number * 3 + 1\n",
    "print(f\"Lucky result number = {lucky_number}\")"
   ]
  },
  {
   "cell_type": "markdown",
   "source": [
    "2. Створіть змінну, що посилається на список. Якщо список пустий, додайте будь-який елемент у кінець списку. Якщо ж ні, то нічого не робіть."
   ],
   "metadata": {
    "id": "H669P0QK5BI_"
   }
  },
  {
   "cell_type": "code",
   "source": [
    "list1 = []\n",
    "print(f\"List = {list1}\")\n",
    "if not list1:\n",
    "  list1.append(0)\n",
    "print(f\"Result list = {list1}\")"
   ],
   "metadata": {
    "id": "ecWlfra45f6E",
    "colab": {
     "base_uri": "https://localhost:8080/"
    },
    "outputId": "9a5fcc33-4221-446b-fe60-846e52e6be03"
   },
   "execution_count": 2,
   "outputs": [
    {
     "output_type": "stream",
     "name": "stdout",
     "text": [
      "List = []\n",
      "Result list = [0]\n"
     ]
    }
   ]
  },
  {
   "cell_type": "markdown",
   "source": [
    "3. Створіть рядок зі своїм імʼям латинкою. Напишіть код, який би автоматизовував наступну задачу.\n",
    "\n",
    "Якщо в імені є літера \"а\"\n",
    " або \"i\", Виведіть на екран повідомлення \"A or I is in the name\".\n",
    "\n",
    "\n",
    "\n",
    "Якщо в імені є літери \"o\" та \"n\", Виведіть на екран повідомлення \"O and N is in the name\".\n",
    "\n",
    "Також якщо в імені немає літери \"о\", але є \"n\", Виведіть на екран повідомлення \"Only N is in the name\".\n",
    "\n",
    "В решті випадків виведіть на екран повідомлення \"There is no N in the name, but there might be O\".\n",
    "\n",
    "Зверніть увагу, що, наприклад, для імені \"Antonina\" буде виведено два повідомлення."
   ],
   "metadata": {
    "id": "h9Y3cMUd5h85"
   }
  },
  {
   "cell_type": "code",
   "source": [
    "name = \"Anna\"\n",
    "name = name.lower()\n",
    "if \"a\" in name or \"i\" in name:\n",
    "  print(\"A or I is in the name\")\n",
    "if \"o\" in name and \"n\" in name:\n",
    "  print(\"O and N is in the name\")\n",
    "elif \"n\" in name:\n",
    "  print(\"Only N is in the name\")\n",
    "else:\n",
    "  print(\"There is no N in the name, but there might be O\")\n"
   ],
   "metadata": {
    "colab": {
     "base_uri": "https://localhost:8080/"
    },
    "id": "0AaI7KfEKgF0",
    "outputId": "0383de5a-3c52-43b9-f3af-2d295c990280"
   },
   "execution_count": 3,
   "outputs": [
    {
     "output_type": "stream",
     "name": "stdout",
     "text": [
      "A or I is in the name\n",
      "Only N is in the name\n"
     ]
    }
   ]
  },
  {
   "cell_type": "markdown",
   "source": [
    "# II. Comprehensions."
   ],
   "metadata": {
    "id": "wPCXJv4354cU"
   }
  },
  {
   "cell_type": "markdown",
   "source": [
    "4. Створіть список, використовуючи if (не if-else), range та comprehension."
   ],
   "metadata": {
    "id": "jULLW5jN55Pw"
   }
  },
  {
   "cell_type": "code",
   "source": [
    "compr_list = [i for i in range(100,-1,-1) if i % 2 == 0 ]\n",
    "print(compr_list)"
   ],
   "metadata": {
    "id": "mlZalnVC6W3F",
    "colab": {
     "base_uri": "https://localhost:8080/"
    },
    "outputId": "aeb786ec-4635-4fea-f091-af8458c4fbcb"
   },
   "execution_count": 4,
   "outputs": [
    {
     "output_type": "stream",
     "name": "stdout",
     "text": [
      "[100, 98, 96, 94, 92, 90, 88, 86, 84, 82, 80, 78, 76, 74, 72, 70, 68, 66, 64, 62, 60, 58, 56, 54, 52, 50, 48, 46, 44, 42, 40, 38, 36, 34, 32, 30, 28, 26, 24, 22, 20, 18, 16, 14, 12, 10, 8, 6, 4, 2, 0]\n"
     ]
    }
   ]
  },
  {
   "cell_type": "markdown",
   "source": [
    "5. Створіть словник, використовуючи dict comprehension, що містить if else. Коли слід використовувати comprehensions, а коли їх слід уникати?"
   ],
   "metadata": {
    "id": "LqhEQ4JW6XcC"
   }
  },
  {
   "cell_type": "code",
   "source": [
    "compr_dict = {i: \"Correct\" if 'a' in i else \"Wrong\" for i in [\"abc\", \"bcd\", \"a\", \"asd\",\"sdf\"]}\n",
    "print(compr_dict)"
   ],
   "metadata": {
    "id": "1yVaFbOs6hta",
    "colab": {
     "base_uri": "https://localhost:8080/"
    },
    "outputId": "786b730c-eea0-4d3f-f9de-6672e9dcf50d"
   },
   "execution_count": 5,
   "outputs": [
    {
     "output_type": "stream",
     "name": "stdout",
     "text": [
      "{'abc': 'Correct', 'bcd': 'Wrong', 'a': 'Correct', 'asd': 'Correct', 'sdf': 'Wrong'}\n"
     ]
    }
   ]
  },
  {
   "cell_type": "markdown",
   "source": [
    "Comprehensions варто використовувати для реалізації простих операцій та створення нових структур даних (словник, список, сножина) на основі певних умов. Comprehensions підвищують читабельність, а також спрощують код, оскільки дозволяють в одному рядку коду виконати декілька простих перетворень відповідно до умов, а також поєднати створення структури та додавання до неї елементів.\n",
    "Проте не варто робити comprehensions з дуже багатьма рівнями вкладеності і використовуавти їх для складних обчислень, оскільки в такому разі втрачається читабельність та може значно сповільнитись робота програми. Також comprehension не використовуються для внесення змін до вже існуючих структур, оскільки вони створюють нову."
   ],
   "metadata": {
    "id": "wbkzNhKq6hzz"
   }
  },
  {
   "cell_type": "markdown",
   "source": [
    "6. Створіть список з рядками та запишіть його у змінну. Створіть ще один список на основі попереднього, де кожен рядок буде містити тільки три перших заглавних символи. Наприклад: ['hello', 'i', 'dont', 'care'] -> ['HEL', 'I', 'DON', 'CAR']. Використання comprehensions обовʼязкове."
   ],
   "metadata": {
    "id": "ZlqB8G3G6lHP"
   }
  },
  {
   "cell_type": "code",
   "source": [
    "l1 = [\"hello\", \"i\", \"dont\", \"care\", \"about\", \"you\"]\n",
    "l2 = [i[:3].upper() for i in l1]\n",
    "print(l2)"
   ],
   "metadata": {
    "id": "nw6rz0bR60VC",
    "colab": {
     "base_uri": "https://localhost:8080/"
    },
    "outputId": "e2d5146e-6a6e-4fcc-cfdb-fe76bcc939c8"
   },
   "execution_count": 6,
   "outputs": [
    {
     "output_type": "stream",
     "name": "stdout",
     "text": [
      "['HEL', 'I', 'DON', 'CAR', 'ABO', 'YOU']\n"
     ]
    }
   ]
  },
  {
   "cell_type": "markdown",
   "source": [
    "# III. Цикли."
   ],
   "metadata": {
    "id": "Tj573IAH64Fz"
   }
  },
  {
   "cell_type": "markdown",
   "source": [
    "7. Продемонструйте роботу циклу while. Не можна використовувати True для запуску циклу, щоб уникнути безкінечного циклу!"
   ],
   "metadata": {
    "id": "tN_33xdE65H5"
   }
  },
  {
   "cell_type": "code",
   "source": [
    "word = \"Hello\"\n",
    "result = \"\"\n",
    "print(f\"Start word = {word}\")\n",
    "while word:\n",
    "  letter = word[-1]\n",
    "  word = word[:-1]\n",
    "  result += 2 * letter\n",
    "print(f\"Reesult word = {result}\")"
   ],
   "metadata": {
    "id": "Kd9FO6yG63P5",
    "colab": {
     "base_uri": "https://localhost:8080/"
    },
    "outputId": "6d0bfa34-8a5a-4834-ff8a-a576ee10dd2b",
    "ExecuteTime": {
     "end_time": "2024-02-21T19:57:27.312197Z",
     "start_time": "2024-02-21T19:57:27.253599Z"
    }
   },
   "execution_count": 1,
   "outputs": [
    {
     "name": "stdout",
     "output_type": "stream",
     "text": [
      "Start word = Hello\n",
      "Reesult word = oolllleeHH\n"
     ]
    }
   ]
  },
  {
   "cell_type": "markdown",
   "source": [
    "8. Напишіть програму, яка виведе на екран непарні числа в діапазоні від 0 до 20 включно."
   ],
   "metadata": {
    "id": "x2CmfZO-7pW0"
   }
  },
  {
   "cell_type": "code",
   "source": [
    "for i in range(21):\n",
    "  if i % 2 != 0:\n",
    "    print(i)"
   ],
   "metadata": {
    "id": "aCSRYA6s7tkF",
    "colab": {
     "base_uri": "https://localhost:8080/"
    },
    "outputId": "490c691a-9f76-415a-fd3a-978d8e229f98"
   },
   "execution_count": 8,
   "outputs": [
    {
     "output_type": "stream",
     "name": "stdout",
     "text": [
      "1\n",
      "3\n",
      "5\n",
      "7\n",
      "9\n",
      "11\n",
      "13\n",
      "15\n",
      "17\n",
      "19\n"
     ]
    }
   ]
  },
  {
   "cell_type": "markdown",
   "source": [
    "9. Створіть список з елементами булевого типу або None. Використовуючи цикли, отримайте в результаті список з кортежами, де перший елемент кортежу - індекс(ціле число), а другий елемент - відповідне значення з першого списку.\n",
    "\n",
    "Наприклад, [True, True, None, False] -> [(0, True), (1, True), (2, None), (3, False)]"
   ],
   "metadata": {
    "id": "MDWNocZD7t_B"
   }
  },
  {
   "cell_type": "code",
   "source": [
    "list2 =  [True, True, None, False]\n",
    "result = []\n",
    "for (index, element) in enumerate(list2):\n",
    "  result.append((index, element))\n",
    "print(result)"
   ],
   "metadata": {
    "id": "0EUyjMdp7yfh",
    "colab": {
     "base_uri": "https://localhost:8080/"
    },
    "outputId": "ff03d463-05a0-442e-f8e5-a5e39d53d55e"
   },
   "execution_count": 9,
   "outputs": [
    {
     "output_type": "stream",
     "name": "stdout",
     "text": [
      "[(0, True), (1, True), (2, None), (3, False)]\n"
     ]
    }
   ]
  },
  {
   "cell_type": "markdown",
   "source": [
    "10. Створіть словник, де ключі - назви книжок, а значення - їхня кількість у наявності в Вашій міні-бібліотеці. Бібліотека має містити щонайменше 6 книжок (6 пар значень у словнику) і щонайбільше 10 (пар значень). Використовуючи цикли, оновіть словник (не створюйте новий) так, щоби кількість книг у наявності збільшилося на 5 кожної книги. Наприклад,\n",
    "{'It': 3, 'Fault stars': 10, 'Bible': 17, 'Psychological romance': 4, 'Harry Potter': 13} -> {'It': 8, 'Fault stars': 15, 'Bible': 22, 'Psychological romance': 9, 'Harry Potter': 18}"
   ],
   "metadata": {
    "id": "-6XUqlcG7zKs"
   }
  },
  {
   "cell_type": "code",
   "source": [
    "library = {\"Lord of the Rings\" : 5, \"Harry Potter\" : 3, \"The Dune\" : 30, \"Emma\" : 20, \"Pride and Prejudice\": 12, \"Sense and sensibility\": 11, \"Alchemist\": 2}\n",
    "print(f\"Before : {library}\")\n",
    "for i in library:\n",
    "  library[i] += 5\n",
    "print(f\"After : {library}\")"
   ],
   "metadata": {
    "id": "Ceoj9wwb791q",
    "colab": {
     "base_uri": "https://localhost:8080/"
    },
    "outputId": "94068ce6-9012-4e60-894b-0893e760008a"
   },
   "execution_count": 10,
   "outputs": [
    {
     "output_type": "stream",
     "name": "stdout",
     "text": [
      "Before : {'Lord of the Rings': 5, 'Harry Potter': 3, 'The Dune': 30, 'Emma': 20, 'Pride and Prejudice': 12, 'Sense and sensibility': 11, 'Alchemist': 2}\n",
      "After : {'Lord of the Rings': 10, 'Harry Potter': 8, 'The Dune': 35, 'Emma': 25, 'Pride and Prejudice': 17, 'Sense and sensibility': 16, 'Alchemist': 7}\n"
     ]
    }
   ]
  },
  {
   "cell_type": "markdown",
   "source": [
    "11. Визначте цілочислену змінну n, що належить проміжку від 4 до 10 включно. Використовуючи цикли, виведіть в консоль наступний патерн.\n",
    "\n",
    "#\n",
    "##\n",
    "###\n",
    "####\n",
    "\n",
    "... #*n\n"
   ],
   "metadata": {
    "id": "QLzyJM288AC7"
   }
  },
  {
   "cell_type": "code",
   "source": [
    "n = 10\n",
    "for i in range (1, n + 1):\n",
    "  print(i * \"#\")"
   ],
   "metadata": {
    "id": "KOpng87s8Duz",
    "colab": {
     "base_uri": "https://localhost:8080/"
    },
    "outputId": "3df7e811-a24e-489e-fbeb-8c4c18b310c8"
   },
   "execution_count": 11,
   "outputs": [
    {
     "output_type": "stream",
     "name": "stdout",
     "text": [
      "#\n",
      "##\n",
      "###\n",
      "####\n",
      "#####\n",
      "######\n",
      "#######\n",
      "########\n",
      "#########\n",
      "##########\n"
     ]
    }
   ]
  },
  {
   "cell_type": "markdown",
   "source": [
    "12. Гра \"Нумо вгадай\".\n",
    "Розробіть просту гру, де користувач має вгадати випадкове число від 1 до 100. Для генерації випадкового числа використовуйте функцію random.randint(a, b) (тут a та b включно). Для отримання числа з консолі використовуйте функцію input(), результат якої обовʼязково явно приведіть до типу int.\n",
    "\n",
    "Підказка: використовуйте цикл while та умови if-else, щоб повідомити користувачу піказки (напр. \"Більше\", \"Менше\") поки користувач не вгадає. По завершенню виведіть кількість спроб, які знадобилися для вгадування."
   ],
   "metadata": {
    "id": "_bd-bqAT8EHn"
   }
  },
  {
   "cell_type": "code",
   "source": [
    "import random\n",
    "NUMBER = random.randint(1, 100)\n",
    "user_input = int(input())\n",
    "counter = 1\n",
    "while user_input != NUMBER:\n",
    "  if NUMBER > user_input:\n",
    "    print(\"Number is bigger than your value\")\n",
    "  else:\n",
    "    print(\"Number is less than your value\")\n",
    "  counter += 1\n",
    "  user_input = int(input())\n",
    "print(f\"Congrats! The random number was {NUMBER} and you guessed it correctly with {counter} attempts\")\n"
   ],
   "metadata": {
    "id": "IK9nnxFK8Hkl",
    "colab": {
     "base_uri": "https://localhost:8080/"
    },
    "outputId": "9b608bc3-5fb7-4a96-9ddb-ff21d4a88f78"
   },
   "execution_count": 14,
   "outputs": [
    {
     "output_type": "stream",
     "name": "stdout",
     "text": [
      "50\n",
      "Number is less than your value\n",
      "25\n",
      "Number is less than your value\n",
      "12\n",
      "Number is less than your value\n",
      "6\n",
      "Congrats! The random number was 6 and you guessed it correctly with 4 attempts\n"
     ]
    }
   ]
  },
  {
   "cell_type": "markdown",
   "source": [
    "# Вітаю! Ви велика(ий) молодець, що впоралась(вся). Похваліть себе та побалуйте чимось приємним. Я Вами пишаюся."
   ],
   "metadata": {
    "id": "PXoXWb7Z8IGi"
   }
  }
 ]
}
