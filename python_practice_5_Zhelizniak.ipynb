{
  "nbformat": 4,
  "nbformat_minor": 0,
  "metadata": {
    "colab": {
      "provenance": [],
      "toc_visible": true
    },
    "kernelspec": {
      "name": "python3",
      "display_name": "Python 3"
    },
    "language_info": {
      "name": "python"
    }
  },
  "cells": [
    {
      "cell_type": "markdown",
      "source": [
        "# I. OOP"
      ],
      "metadata": {
        "id": "5qV_sehzFCTp"
      }
    },
    {
      "cell_type": "markdown",
      "source": [
        "1. (6б). Створіть клас Animal, додайте три атрибути, один з яких має значення за замовчуванням та два методи на свій розсуд."
      ],
      "metadata": {
        "id": "tx_U_hOALyfg"
      }
    },
    {
      "cell_type": "code",
      "source": [
        "class Animal:\n",
        "  def __init__(self, name, sound, number = 0):\n",
        "    self.name = name\n",
        "    self.sound = sound\n",
        "    self.number = number\n",
        "\n",
        "\n",
        "  def make_noise(self, n_times):\n",
        "    return f\"{self.name} says {(self.sound + ' ') * n_times}\"\n",
        "\n",
        "\n",
        "  def is_rare(self):\n",
        "    return self.number < 10000\n"
      ],
      "metadata": {
        "id": "-Vf895KaL88N"
      },
      "execution_count": 2,
      "outputs": []
    },
    {
      "cell_type": "markdown",
      "source": [
        "2. (2б). Створіть два обʼєкти цього класу, де один з обʼєктів створюється із дефолтним значенням атрибуту. На одному обʼєкті отримайте значення його атрибуту, а на іншому викличте один з його методів."
      ],
      "metadata": {
        "id": "X_UlOMB0L93w"
      }
    },
    {
      "cell_type": "code",
      "source": [
        "cat = Animal(\"Cat\", \"Myaw\", 87878799008767)\n",
        "leopard = Animal(\"Amur leopard\", \"Rrrrrr\")\n",
        "print(leopard.number)\n",
        "print(cat.make_noise(4))"
      ],
      "metadata": {
        "id": "7gBu0ESOMCpG",
        "colab": {
          "base_uri": "https://localhost:8080/"
        },
        "outputId": "1d3ce6ef-60fe-4cb9-95c7-6316bf63dca0"
      },
      "execution_count": 3,
      "outputs": [
        {
          "output_type": "stream",
          "name": "stdout",
          "text": [
            "0\n",
            "Cat says Myaw Myaw Myaw Myaw \n"
          ]
        }
      ]
    },
    {
      "cell_type": "markdown",
      "source": [
        "3. (5б). Створіть клас, де атрибути мають різні рівні доступу. Спробуйте отримати їхні значення та опишіть результати."
      ],
      "metadata": {
        "id": "HoqSCZt1MHn5"
      }
    },
    {
      "cell_type": "code",
      "source": [
        "class Student:\n",
        "  def __init__(self, name, surname, grade, rank_place):\n",
        "    self.name = name\n",
        "    self.surname = surname\n",
        "    self._grade = grade\n",
        "    self.__rank_place = rank_place\n",
        "\n",
        "\n",
        "student = Student('Anna', 'Zhelizniak', 96.44, 1)\n",
        "print(student.name)\n",
        "print(student.surname)"
      ],
      "metadata": {
        "id": "r9b3vJxBMSPV",
        "colab": {
          "base_uri": "https://localhost:8080/"
        },
        "outputId": "e67a4bcc-a92e-4ef4-c67d-9d265abc314f"
      },
      "execution_count": 17,
      "outputs": [
        {
          "output_type": "stream",
          "name": "stdout",
          "text": [
            "Anna\n",
            "Zhelizniak\n"
          ]
        }
      ]
    },
    {
      "cell_type": "code",
      "source": [
        "print(student._grade)"
      ],
      "metadata": {
        "colab": {
          "base_uri": "https://localhost:8080/"
        },
        "id": "X2U5LRupxXcI",
        "outputId": "b7378cf6-5582-4687-ba9a-55a9f773facf"
      },
      "execution_count": 20,
      "outputs": [
        {
          "output_type": "stream",
          "name": "stdout",
          "text": [
            "96.44\n"
          ]
        }
      ]
    },
    {
      "cell_type": "code",
      "source": [
        "print(student.__rank_place)"
      ],
      "metadata": {
        "colab": {
          "base_uri": "https://localhost:8080/",
          "height": 144
        },
        "id": "RSrs0QU_xb96",
        "outputId": "3aba9a13-5723-4e4d-b6af-4a9983e5b2ac"
      },
      "execution_count": 21,
      "outputs": [
        {
          "output_type": "error",
          "ename": "AttributeError",
          "evalue": "'Student' object has no attribute '__rank_place'",
          "traceback": [
            "\u001b[0;31m---------------------------------------------------------------------------\u001b[0m",
            "\u001b[0;31mAttributeError\u001b[0m                            Traceback (most recent call last)",
            "\u001b[0;32m<ipython-input-21-ec43f1b5f2ab>\u001b[0m in \u001b[0;36m<cell line: 1>\u001b[0;34m()\u001b[0m\n\u001b[0;32m----> 1\u001b[0;31m \u001b[0mprint\u001b[0m\u001b[0;34m(\u001b[0m\u001b[0mstudent\u001b[0m\u001b[0;34m.\u001b[0m\u001b[0m__rank_place\u001b[0m\u001b[0;34m)\u001b[0m\u001b[0;34m\u001b[0m\u001b[0;34m\u001b[0m\u001b[0m\n\u001b[0m",
            "\u001b[0;31mAttributeError\u001b[0m: 'Student' object has no attribute '__rank_place'"
          ]
        }
      ]
    },
    {
      "cell_type": "markdown",
      "source": [
        "В класі студент було представлено атрибути з публічним доступом (name, surname), protected (grade) та приватним (rank_place). При спробі викликати кожен тип атрибутів ми отримуємо доступ лише до public та protected атрибутів, для private отримуємо AttributeError. Публічні атрибути можуть бути викликані з будь-якого місця програми; атрибути з обмеженим доступом не призначені для використання назовні, проте є доступними для похідних класів; приватні атрибути повністю обмежені від домтупу ззовні, саме тому виникає помилка."
      ],
      "metadata": {
        "id": "zICRXxQEx3Fq"
      }
    },
    {
      "cell_type": "markdown",
      "source": [
        "4. (7б). Як ви розумієте термін self? Для чого використовується метод __init __?"
      ],
      "metadata": {
        "id": "5op2m2vgMSkZ"
      }
    },
    {
      "cell_type": "markdown",
      "source": [
        "Self це посилання на конкретний поточний обʼєкт, яке набуває значень обʼєктів, які будуть створюватись. Self використовується для доступу до атрибутів та методів класу всередині методів класу.\n",
        "Метод __init __ це спеціальний метод ініціалізації, який автоматично викликається при створенні нового обʼєкту. Цей метод викликається неявно, не потрібно напряму його викликати. Окрім ініціалізації самого обʼєкту в цьому методі ми можемо ініціалізувати атрибути, що дозволяє створювати обʼєкт одразу з певними властивостями.  "
      ],
      "metadata": {
        "id": "DyiPqNRvMasx"
      }
    },
    {
      "cell_type": "markdown",
      "source": [
        "5. (9б). Створіть клас Фігура без атрибутів, з методом get_area для отримання площі фігури, що повертає 0 та __add __, який приймає self та other в якості аргументів, а повертає суму площин фігур self та other."
      ],
      "metadata": {
        "id": "-6X8EGfjMd2y"
      }
    },
    {
      "cell_type": "code",
      "source": [
        "class Figure:\n",
        "  def get_area(self):\n",
        "    return 0\n",
        "  def __add__(self, other):\n",
        "    return self.get_area() + other.get_area()"
      ],
      "metadata": {
        "id": "4rvO_wYUMaEr"
      },
      "execution_count": 22,
      "outputs": []
    },
    {
      "cell_type": "markdown",
      "source": [
        "6. (11б). Створіть 2 дочірніх класи від Фігури: Трикутник та Коло, які мають атрибути, необхідні для розрахунку площин. Визначте метод get_area в кожному з них так, щоби вони розраховували площу в залежності від формули для кожного типу фігури. Створіть обʼєкт класу Трикутник та обʼєкт класу Коло. Виконайте операцію суми за допомогою оператора + між ними."
      ],
      "metadata": {
        "id": "SFcKnnv5Mo_z"
      }
    },
    {
      "cell_type": "code",
      "source": [
        "import math\n",
        "class Triangle(Figure):\n",
        "  def __init__(self, a, b, c):\n",
        "    self.a = a\n",
        "    self.b = b\n",
        "    self.c = c\n",
        "\n",
        "  def get_area(self):\n",
        "    p = (self.a + self.b + self.c) / 2\n",
        "    return math.sqrt(p * (p - self.a) * (p - self.b) * (p - self.c))\n",
        "\n",
        "\n",
        "class Circle(Figure):\n",
        "  def __init__(self, radius):\n",
        "    self.radius = radius\n",
        "\n",
        "  def get_area(self):\n",
        "    return math.pi * self.radius ** 2\n",
        "\n",
        "\n",
        "circle1 = Circle(5)\n",
        "triangle1 = Triangle(3, 4, 5)\n",
        "print(f\"Circle : {circle1.get_area()}\")\n",
        "print(f\"Triangle : {triangle1.get_area()}\")\n",
        "print(f\"Circle + triangle: {circle1 + triangle1}\")"
      ],
      "metadata": {
        "id": "H3GVNr69Muf3",
        "colab": {
          "base_uri": "https://localhost:8080/"
        },
        "outputId": "407fd705-c185-41ee-dca0-dc52ea772ceb"
      },
      "execution_count": 24,
      "outputs": [
        {
          "output_type": "stream",
          "name": "stdout",
          "text": [
            "Circle : 78.53981633974483\n",
            "Triangle : 6.0\n",
            "Circle + triangle: 84.53981633974483\n"
          ]
        }
      ]
    },
    {
      "cell_type": "markdown",
      "source": [
        "7. (3б). Продемонструйте різницю між isinstance та issubclass."
      ],
      "metadata": {
        "id": "HCvR206YMvLK"
      }
    },
    {
      "cell_type": "markdown",
      "source": [
        "isinstance перевірє чи є обʼєкт еземпляром класу, а issubclass перевірє чи є один клас підкласом іншого."
      ],
      "metadata": {
        "id": "PqspJigqD_Au"
      }
    },
    {
      "cell_type": "code",
      "source": [
        "print(isinstance(triangle1, Triangle))\n",
        "print(isinstance(triangle1, Circle))\n",
        "print(isinstance(triangle1, Figure))\n",
        "print(issubclass(Triangle, Figure))"
      ],
      "metadata": {
        "id": "L_V1bBvDM0GN",
        "colab": {
          "base_uri": "https://localhost:8080/"
        },
        "outputId": "621bdc02-4d4b-4cf9-b8c0-116054ba19bd"
      },
      "execution_count": 25,
      "outputs": [
        {
          "output_type": "stream",
          "name": "stdout",
          "text": [
            "True\n",
            "False\n",
            "True\n",
            "True\n"
          ]
        }
      ]
    },
    {
      "cell_type": "markdown",
      "source": [
        "Оскільки клас сам по собі є обʼєктом, isinstance можна застосувати і до нього, проте ми отримаємо негативну відповідь, оскільки один клас не буде екземпляром іншого."
      ],
      "metadata": {
        "id": "G_POqP4dFdBM"
      }
    },
    {
      "cell_type": "code",
      "source": [
        "print(isinstance(Triangle, Figure))"
      ],
      "metadata": {
        "colab": {
          "base_uri": "https://localhost:8080/"
        },
        "id": "HDEpsNi2Frxp",
        "outputId": "25b046c9-2dec-4f38-f8cf-8b891062d813"
      },
      "execution_count": 26,
      "outputs": [
        {
          "output_type": "stream",
          "name": "stdout",
          "text": [
            "False\n"
          ]
        }
      ]
    },
    {
      "cell_type": "markdown",
      "source": [
        "8. (13б). Створіть клас BankAccount з приватними атрибутами balance та account_number. Реалізуйте методи поповнення та зняття коштів, забезпечивши належну інкапсуляцію. Підказка: використовуйте декоратори property та setter."
      ],
      "metadata": {
        "id": "jjsaBZ-iM0Qq"
      }
    },
    {
      "cell_type": "code",
      "source": [
        "class BankAccount:\n",
        "  def __init__(self, account_number, balance=0):\n",
        "    self.__account_number = account_number\n",
        "    self.__balance = balance\n",
        "\n",
        "  @property\n",
        "  def account_number(self):\n",
        "    return self.__account_number\n",
        "\n",
        "  @property\n",
        "  def balance(self):\n",
        "    return self.__balance\n",
        "\n",
        "  @account_number.setter\n",
        "  def account_number(self, account_number):\n",
        "    self.__account_number = account_number\n",
        "\n",
        "  @balance.setter\n",
        "  def balance(self, balance):\n",
        "    self.__balance = balance\n",
        "\n",
        "  def add_money(self, money):\n",
        "    self.balance += money\n",
        "\n",
        "  def withdraw_money(self, money):\n",
        "    if self.balance < money:\n",
        "      print(\"Not enough money on your account\")\n",
        "    else:\n",
        "      self.balance -= money\n",
        "\n",
        "\n",
        "my_account = BankAccount(\"000000\", 100)\n",
        "print(f\"Account {my_account.account_number} balance is {my_account.balance}$\")\n",
        "my_account.add_money(50)\n",
        "print(f\"Account {my_account.account_number} balance is {my_account.balance}$\")\n",
        "my_account.withdraw_money(100)\n",
        "print(f\"Account {my_account.account_number} balance is {my_account.balance}$\")"
      ],
      "metadata": {
        "id": "xCvZ7lh8M7YA",
        "colab": {
          "base_uri": "https://localhost:8080/"
        },
        "outputId": "9d0c053b-095f-4442-8c2e-3b361514d32c"
      },
      "execution_count": 30,
      "outputs": [
        {
          "output_type": "stream",
          "name": "stdout",
          "text": [
            "Account 000000 balance is 100$\n",
            "Account 000000 balance is 150$\n",
            "Account 000000 balance is 50$\n"
          ]
        }
      ]
    },
    {
      "cell_type": "markdown",
      "source": [
        "9. (11б). Створіть клас Library, який містить список об'єктів типу Book. Реалізуйте методи для додавання книги, видалення книги та відображення списку книг."
      ],
      "metadata": {
        "id": "tIzL2SJTM8ft"
      }
    },
    {
      "cell_type": "code",
      "source": [
        "class Book:\n",
        "  def __init__(self, id, name, author, genre, pages):\n",
        "    self.id = id\n",
        "    self.name = name\n",
        "    self.author = author\n",
        "    self.genre = genre\n",
        "    self.pages = pages\n",
        "\n",
        "\n",
        "class Library:\n",
        "  def __init__(self):\n",
        "    self.books = []\n",
        "\n",
        "  def add_book(self, book):\n",
        "    self.books.append(book)\n",
        "\n",
        "  def remove_book(self, book):\n",
        "    if book in self.books:\n",
        "      self.books.remove(book)\n",
        "    else:\n",
        "      print(\"This book does not exist\")\n",
        "\n",
        "  def remove_book_by_id(self, id):\n",
        "    book_to_remove = list(filter(lambda book: book.id == id, self.books))\n",
        "    if book_to_remove:\n",
        "      self.remove_book(book_to_remove[0])\n",
        "\n",
        "  def show_books(self):\n",
        "    if not self.books:\n",
        "      print(\"There is no books in this library\")\n",
        "    else:\n",
        "      for book in self.books:\n",
        "        print(f\"Book {book.name} by {book.author}, genre: {book.genre}, number of pages: {book.pages}\")\n",
        "\n",
        "book1 = Book(\"0000ABF\", \"Dune\", \"Frank Herbert\", \"fiction\", 896)\n",
        "book2 = Book(\"0000ABD\", \"Harry Potter and the Philosopher's Stone\", \"J. K. Rowling\", \"fiction\", 223)\n",
        "book3 = Book(\"0000ABK\", \"Harry Potter and the Chamber of Secrets\", \"J. K. Rowling\", \"fiction\", 251)\n",
        "book4 = Book(\"0000AFR\", \"God always travels incognito\", \"Gunel Laurent\", \"psychology\", 480)\n",
        "my_library = Library()\n",
        "my_library.add_book(book1)\n",
        "my_library.add_book(book2)\n",
        "my_library.add_book(book3)\n",
        "my_library.add_book(book4)\n",
        "my_library.show_books()\n",
        "my_library.remove_book(book1)\n",
        "my_library.remove_book_by_id(\"0000ABD\")\n",
        "print(\"--------------------\")\n",
        "my_library.show_books()"
      ],
      "metadata": {
        "id": "HWxfJKLtNAUZ",
        "colab": {
          "base_uri": "https://localhost:8080/"
        },
        "outputId": "c16e4b1f-8ea1-4bab-be83-c5663a6efebf"
      },
      "execution_count": 53,
      "outputs": [
        {
          "output_type": "stream",
          "name": "stdout",
          "text": [
            "Book Dune by Frank Herbert, genre: fiction, number of pages: 896\n",
            "Book Harry Potter and the Philosopher's Stone by J. K. Rowling, genre: fiction, number of pages: 223\n",
            "Book Harry Potter and the Chamber of Secrets by J. K. Rowling, genre: fiction, number of pages: 251\n",
            "Book God always travels incognito by Gunel Laurent, genre: psychology, number of pages: 480\n",
            "--------------------\n",
            "Book Harry Potter and the Chamber of Secrets by J. K. Rowling, genre: fiction, number of pages: 251\n",
            "Book God always travels incognito by Gunel Laurent, genre: psychology, number of pages: 480\n"
          ]
        }
      ]
    },
    {
      "cell_type": "markdown",
      "source": [
        "10. (13б). Створіть клас Person з атрибутами name та age. Створіть ще один клас Employee з такими атрибутами, як department та salary. Створіть клас Manager, який успадковує обидва класи Person та Employee. Продемонструйте використання множинної спадковості, створивши обʼєкт класу Manager та отримавши mro для цього класу."
      ],
      "metadata": {
        "id": "lmV8pAwwNIqu"
      }
    },
    {
      "cell_type": "code",
      "source": [
        "class Person:\n",
        "  def __init(self, name, age):\n",
        "    self.name = name\n",
        "    self.age = age\n",
        "\n",
        "\n",
        "class Employee:\n",
        "  def __init__(self, department, salary):\n",
        "    self.department = department\n",
        "    self.salary = salary\n",
        "\n",
        "\n",
        "class Manager(Person, Employee):\n",
        "  def __init__(self, name, age, department, salary):\n",
        "    super().__init__(name, age)\n",
        "    Employee.__init__(self, department, salary)\n",
        "\n",
        "manager = Manager(\"Ivanov\", 23, \"IT\", 20000)\n",
        "print(type(manager).mro())"
      ],
      "metadata": {
        "id": "R49grKlWNPeN",
        "colab": {
          "base_uri": "https://localhost:8080/"
        },
        "outputId": "42e5d797-6448-40c6-eec2-1f11cc87503b"
      },
      "execution_count": 63,
      "outputs": [
        {
          "output_type": "stream",
          "name": "stdout",
          "text": [
            "[<class '__main__.Manager'>, <class '__main__.Person'>, <class '__main__.Employee'>, <class 'object'>]\n"
          ]
        }
      ]
    },
    {
      "cell_type": "markdown",
      "source": [
        "# II. Iterator"
      ],
      "metadata": {
        "id": "dIJyUiNBFG8G"
      }
    },
    {
      "cell_type": "markdown",
      "source": [
        "11. (4б). Визначте рядок(str) з 4ма різними за значенням символами. Створіть ітератор на основі цього рядка. Викличте 5 разів функцію next на ітераторі, 4ри перших з них огорніть у ф-цію print()."
      ],
      "metadata": {
        "id": "13vsm0NyKIzL"
      }
    },
    {
      "cell_type": "code",
      "source": [
        "str1 = \"abcd\"\n",
        "iterator = iter(str1)\n",
        "for _ in range(4):\n",
        "  print(next(iterator))\n",
        "iterator.next()"
      ],
      "metadata": {
        "id": "81ntabAkKuz-",
        "colab": {
          "base_uri": "https://localhost:8080/",
          "height": 251
        },
        "outputId": "daa26ed3-91c8-46e6-9c3f-079a7d399330"
      },
      "execution_count": 65,
      "outputs": [
        {
          "output_type": "stream",
          "name": "stdout",
          "text": [
            "a\n",
            "b\n",
            "c\n",
            "d\n"
          ]
        },
        {
          "output_type": "error",
          "ename": "AttributeError",
          "evalue": "'str_iterator' object has no attribute 'next'",
          "traceback": [
            "\u001b[0;31m---------------------------------------------------------------------------\u001b[0m",
            "\u001b[0;31mAttributeError\u001b[0m                            Traceback (most recent call last)",
            "\u001b[0;32m<ipython-input-65-0dc23e0baabe>\u001b[0m in \u001b[0;36m<cell line: 5>\u001b[0;34m()\u001b[0m\n\u001b[1;32m      3\u001b[0m \u001b[0;32mfor\u001b[0m \u001b[0m_\u001b[0m \u001b[0;32min\u001b[0m \u001b[0mrange\u001b[0m\u001b[0;34m(\u001b[0m\u001b[0;36m4\u001b[0m\u001b[0;34m)\u001b[0m\u001b[0;34m:\u001b[0m\u001b[0;34m\u001b[0m\u001b[0;34m\u001b[0m\u001b[0m\n\u001b[1;32m      4\u001b[0m   \u001b[0mprint\u001b[0m\u001b[0;34m(\u001b[0m\u001b[0mnext\u001b[0m\u001b[0;34m(\u001b[0m\u001b[0miterator\u001b[0m\u001b[0;34m)\u001b[0m\u001b[0;34m)\u001b[0m\u001b[0;34m\u001b[0m\u001b[0;34m\u001b[0m\u001b[0m\n\u001b[0;32m----> 5\u001b[0;31m \u001b[0miterator\u001b[0m\u001b[0;34m.\u001b[0m\u001b[0mnext\u001b[0m\u001b[0;34m(\u001b[0m\u001b[0;34m)\u001b[0m\u001b[0;34m\u001b[0m\u001b[0;34m\u001b[0m\u001b[0m\n\u001b[0m",
            "\u001b[0;31mAttributeError\u001b[0m: 'str_iterator' object has no attribute 'next'"
          ]
        }
      ]
    },
    {
      "cell_type": "markdown",
      "source": [
        "А що якщо викликати цю ж функцію на рядку?"
      ],
      "metadata": {
        "id": "aekWHGXOLRsO"
      }
    },
    {
      "cell_type": "code",
      "source": [
        "print(next(str1))"
      ],
      "metadata": {
        "id": "mxATGsErLV1i",
        "colab": {
          "base_uri": "https://localhost:8080/",
          "height": 144
        },
        "outputId": "398a0d8a-5c14-4bf4-f97b-1e3b1c4577c0"
      },
      "execution_count": 66,
      "outputs": [
        {
          "output_type": "error",
          "ename": "TypeError",
          "evalue": "'str' object is not an iterator",
          "traceback": [
            "\u001b[0;31m---------------------------------------------------------------------------\u001b[0m",
            "\u001b[0;31mTypeError\u001b[0m                                 Traceback (most recent call last)",
            "\u001b[0;32m<ipython-input-66-4edc64afe7d2>\u001b[0m in \u001b[0;36m<cell line: 1>\u001b[0;34m()\u001b[0m\n\u001b[0;32m----> 1\u001b[0;31m \u001b[0mprint\u001b[0m\u001b[0;34m(\u001b[0m\u001b[0mnext\u001b[0m\u001b[0;34m(\u001b[0m\u001b[0mstr1\u001b[0m\u001b[0;34m)\u001b[0m\u001b[0;34m)\u001b[0m\u001b[0;34m\u001b[0m\u001b[0;34m\u001b[0m\u001b[0m\n\u001b[0m",
            "\u001b[0;31mTypeError\u001b[0m: 'str' object is not an iterator"
          ]
        }
      ]
    },
    {
      "cell_type": "markdown",
      "source": [
        " 12. (5б). Опишіть своїми словами в одному реченні, як ви розумієте різницю між ітерабельними обʼєктами та ітераторами (можна на прикладі)."
      ],
      "metadata": {
        "id": "XwtMEopwJ4pH"
      }
    },
    {
      "cell_type": "markdown",
      "source": [
        "Ітерабельні обʼєкти - це здебільшого лінійний набір даних, по якому можна проходитись циклом або функцій, які працюють з послідовностями (списки, кортежі, словники тощо), а ітератори - це обʼєкти, які дозволяють здійснювати ці ітерації, надають нам вказівник, який пересувається по iterable."
      ],
      "metadata": {
        "id": "-sHrODc3KFn8"
      }
    },
    {
      "cell_type": "markdown",
      "source": [
        "13. (11б). Створіть клас, що має визначений Iterator Protocol та при кожному виклику next повертає літери англійської абетки, поки вони не вичерпаються."
      ],
      "metadata": {
        "id": "E9qJWmNbK8Gl"
      }
    },
    {
      "cell_type": "code",
      "source": [
        "class Alphabet:\n",
        "  def __init__(self):\n",
        "    self.pointer = ord('a')\n",
        "\n",
        "  def __iter__(self):\n",
        "    return self\n",
        "\n",
        "  def __next__(self):\n",
        "    if self.pointer <= ord('z'):\n",
        "      current_letter = self.pointer\n",
        "      self.pointer += 1\n",
        "      return chr(current_letter)\n",
        "    else:\n",
        "      raise StopIteration\n",
        "\n",
        "\n",
        "alphabet = Alphabet()\n",
        "for _ in range(26):\n",
        "  print(next(alphabet))"
      ],
      "metadata": {
        "id": "cqx-g_RsLo6I",
        "colab": {
          "base_uri": "https://localhost:8080/"
        },
        "outputId": "f1695dc4-a595-4225-b16f-5d97db41aa37"
      },
      "execution_count": 70,
      "outputs": [
        {
          "output_type": "stream",
          "name": "stdout",
          "text": [
            "a\n",
            "b\n",
            "c\n",
            "d\n",
            "e\n",
            "f\n",
            "g\n",
            "h\n",
            "i\n",
            "j\n",
            "k\n",
            "l\n",
            "m\n",
            "n\n",
            "o\n",
            "p\n",
            "q\n",
            "r\n",
            "s\n",
            "t\n",
            "u\n",
            "v\n",
            "w\n",
            "x\n",
            "y\n",
            "z\n"
          ]
        }
      ]
    },
    {
      "cell_type": "markdown",
      "source": [
        "# Вітаю! Ви велика(ий) молодець, що впоралась(вся). Похваліть себе та побалуйте чимось приємним. Я Вами пишаюся."
      ],
      "metadata": {
        "id": "Z3E3S_s1Fv7-"
      }
    }
  ]
}