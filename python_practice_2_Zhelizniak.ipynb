{
  "nbformat": 4,
  "nbformat_minor": 0,
  "metadata": {
    "colab": {
      "provenance": []
    },
    "kernelspec": {
      "name": "python3",
      "display_name": "Python 3"
    },
    "language_info": {
      "name": "python"
    }
  },
  "cells": [
    {
      "cell_type": "markdown",
      "source": [
        "# I. Змінні та памʼять."
      ],
      "metadata": {
        "id": "p9wwt0LZzNvn"
      }
    },
    {
      "cell_type": "markdown",
      "source": [
        "1. Створити змінні, що посилаються на два цілих числа, що однакові за значенням, де значення належить проміжку від -5 до 256. Перевірте, чи будуть ці змінні рівні тільки за значенням або ж ще будуть посилатися на один і той самий обʼєкт в памʼяті? Наведіть код та дайте текстову відповідь нижче."
      ],
      "metadata": {
        "id": "HTJrrm95xSV9"
      }
    },
    {
      "cell_type": "code",
      "execution_count": 2,
      "metadata": {
        "id": "TATni2vzayjG",
        "colab": {
          "base_uri": "https://localhost:8080/"
        },
        "outputId": "6a35fe7b-7334-47f7-fb07-4a54473e1c3c"
      },
      "outputs": [
        {
          "output_type": "stream",
          "name": "stdout",
          "text": [
            "True\n",
            "True\n"
          ]
        }
      ],
      "source": [
        "integer_value1 = 10\n",
        "integer_value2 = 10\n",
        "print(integer_value1 == integer_value2)\n",
        "print(id(integer_value1) == id(integer_value2))"
      ]
    },
    {
      "cell_type": "markdown",
      "source": [
        "Змінні integer_value1 та integer_value2 рівні за значенням та посилаються на той самий обʼєкт памʼяті, оскількі значення в діапазоні від -5 до 256 кешуються та використовуються тією самою памʼяттю. Це підтверджує виконання попередньої комірки коду (результат True True)"
      ],
      "metadata": {
        "id": "zfRG_o3WbRdg"
      }
    },
    {
      "cell_type": "markdown",
      "source": [
        "2. За допомогою якої функції можна перевірити належність змінної до вказаного типу даних (напр. чи змінна True посилається на значення булевого та цілочисленого типу)?"
      ],
      "metadata": {
        "id": "ISORzt6M3vAt"
      }
    },
    {
      "cell_type": "code",
      "source": [
        "# за допомогою функції isinstance\n",
        "isinstance(True, bool) and isinstance(True, int) # чи змінна True посилається на значення булевого та цілочисленого типу"
      ],
      "metadata": {
        "id": "9vL9CFaMbfyo",
        "colab": {
          "base_uri": "https://localhost:8080/"
        },
        "outputId": "1169bd07-3919-4608-c117-7c346f39ba18"
      },
      "execution_count": 3,
      "outputs": [
        {
          "output_type": "execute_result",
          "data": {
            "text/plain": [
              "True"
            ]
          },
          "metadata": {},
          "execution_count": 3
        }
      ]
    },
    {
      "cell_type": "markdown",
      "source": [
        "# II. Цілі числа та числа з рухомою комою"
      ],
      "metadata": {
        "id": "tRxugKAxwYLw"
      }
    },
    {
      "cell_type": "markdown",
      "source": [
        "3. Створити дві змінні, що посилаються на будь-які ціле число та число з рухомою комою та продемонструвати такі арифметичні операції: додавання, віднімання, ділення, множення, ділення без залишку, ділення по модулю, приведення до ступеню. Всі результати операцій вивести на екран."
      ],
      "metadata": {
        "id": "NLHkgd5Gybc8"
      }
    },
    {
      "cell_type": "code",
      "source": [
        "integer_value = 8\n",
        "float_value = 2.5\n",
        "sum = integer_value + float_value\n",
        "subtraction = integer_value - float_value\n",
        "division = integer_value / float_value\n",
        "multiplication = integer_value * float_value\n",
        "div = integer_value // float_value\n",
        "mod = integer_value % float_value\n",
        "pow = float_value ** integer_value\n",
        "\n",
        "print(f\"Integer number : {integer_value}\")\n",
        "print(f\"Float number : {float_value}\")\n",
        "print(f\"Addition result : {sum}\")\n",
        "print(f\"Subtraction result : {subtraction}\")\n",
        "print(f\"Division result : {division}\")\n",
        "print(f\"Multiplication result : {multiplication}\")\n",
        "print(f\"Division without remainder result : {div}\")\n",
        "print(f\"Modulus result : {mod}\")\n",
        "print(f\"Pow result : {pow}\")"
      ],
      "metadata": {
        "id": "nb8u_3pjb2cA",
        "colab": {
          "base_uri": "https://localhost:8080/"
        },
        "outputId": "edb4a400-dc59-4ccc-8765-9ed21ea222bb"
      },
      "execution_count": 4,
      "outputs": [
        {
          "output_type": "stream",
          "name": "stdout",
          "text": [
            "Integer number : 8\n",
            "Float number : 2.5\n",
            "Addition result : 10.5\n",
            "Subtraction result : 5.5\n",
            "Division result : 3.2\n",
            "Multiplication result : 20.0\n",
            "Division without remainder result : 3.0\n",
            "Modulus result : 0.5\n",
            "Pow result : 1525.87890625\n"
          ]
        }
      ]
    },
    {
      "cell_type": "markdown",
      "source": [
        "4. Використовуючи змінні з вправи 3, продемонструйте механізм явного перетворення типів, де числа з рухомою комою перетворюються на цілі числа. Також визначте змінну, що посилається на значення булевого типу і спробуйте явно привести її до цілого числа."
      ],
      "metadata": {
        "id": "1kBClKgPzZnC"
      }
    },
    {
      "cell_type": "code",
      "source": [
        "print(f\"Convert float to int : {float_value} -> {int(float_value)}\")\n",
        "print(f\"Convert float to int : {sum} -> {int(sum)}\")\n",
        "some_bool = True\n",
        "print(f\"Convert bool to int : {some_bool} -> {int(some_bool)}\")"
      ],
      "metadata": {
        "id": "TbqJbkeUcKsD",
        "colab": {
          "base_uri": "https://localhost:8080/"
        },
        "outputId": "0dc340f3-6462-4abd-d131-f71ef927d31c"
      },
      "execution_count": 5,
      "outputs": [
        {
          "output_type": "stream",
          "name": "stdout",
          "text": [
            "Convert float to int : 2.5 -> 2\n",
            "Convert float to int : 10.5 -> 10\n",
            "Convert bool to int : True -> 1\n"
          ]
        }
      ]
    },
    {
      "cell_type": "markdown",
      "source": [
        "# IІІ. Рядки (String)."
      ],
      "metadata": {
        "id": "EVJ7AflwxrZi"
      }
    },
    {
      "cell_type": "markdown",
      "source": [
        "5. Створити пустий рядок двома різними способами."
      ],
      "metadata": {
        "id": "_s5ECzz9zE61"
      }
    },
    {
      "cell_type": "code",
      "source": [
        "empty_string1 = ''\n",
        "empty_string2 = str()"
      ],
      "metadata": {
        "id": "fkZJHu9Scvc-"
      },
      "execution_count": 6,
      "outputs": []
    },
    {
      "cell_type": "markdown",
      "source": [
        "6. Створити рядок з апострофом. Зробити його сирим. Вивести обидва рядка на екран."
      ],
      "metadata": {
        "id": "4Bdn9J3MzLf_"
      }
    },
    {
      "cell_type": "code",
      "source": [
        "a = '\\''\n",
        "raw_a = r'\\''\n",
        "print(f\"String : {a}\")\n",
        "print(f\"Raw string : {raw_a}\")"
      ],
      "metadata": {
        "id": "ivji_hsmc0GH",
        "colab": {
          "base_uri": "https://localhost:8080/"
        },
        "outputId": "87386e67-0280-421e-8c36-f600bed5b844"
      },
      "execution_count": 7,
      "outputs": [
        {
          "output_type": "stream",
          "name": "stdout",
          "text": [
            "String : '\n",
            "Raw string : \\'\n"
          ]
        }
      ]
    },
    {
      "cell_type": "markdown",
      "source": [
        "7. Створити змінну, що буде посилатися на Ваше прізвище латинкою. Створити форматований рядок, який буде мати вигляд \"My surname is ______\", де на місці нижніх підкреслень буде Ваше прізвище зі змінної."
      ],
      "metadata": {
        "id": "bg_d8wM4z8dS"
      }
    },
    {
      "cell_type": "code",
      "source": [
        "surname = \"Zhelizniak\"\n",
        "formated_surname = \"My surname is {surname}\"\n",
        "print(formated_surname.format(surname=surname))"
      ],
      "metadata": {
        "id": "kuxFgpWndACq",
        "colab": {
          "base_uri": "https://localhost:8080/"
        },
        "outputId": "a595822d-5bb3-48ba-8500-737dea52e4b0"
      },
      "execution_count": 8,
      "outputs": [
        {
          "output_type": "stream",
          "name": "stdout",
          "text": [
            "My surname is Zhelizniak\n"
          ]
        }
      ]
    },
    {
      "cell_type": "markdown",
      "source": [
        "8. Маючи рядок \"My dog is crazy.\" перетворити його на список [\"my\", \"dog\", \"is\", \"crazy\"]"
      ],
      "metadata": {
        "id": "1Nc6RqvQ0hxU"
      }
    },
    {
      "cell_type": "code",
      "source": [
        "basic_string = \"My dog is crazy.\"\n",
        "splited = basic_string.lower()[:-1].split()\n",
        "print(splited)"
      ],
      "metadata": {
        "id": "w1Ya4RqedUhw",
        "colab": {
          "base_uri": "https://localhost:8080/"
        },
        "outputId": "bf6c5275-08e7-46fa-ec16-b1bec445c043"
      },
      "execution_count": 10,
      "outputs": [
        {
          "output_type": "stream",
          "name": "stdout",
          "text": [
            "['my', 'dog', 'is', 'crazy']\n"
          ]
        }
      ]
    },
    {
      "cell_type": "markdown",
      "source": [
        "# IV. Робота зі списками."
      ],
      "metadata": {
        "id": "GYVqN9uP1D4n"
      }
    },
    {
      "cell_type": "markdown",
      "source": [
        "9. Створити список двома різними за синтаксисом способами. За допомогою вбудованої функції обчисліть довжину одного з них."
      ],
      "metadata": {
        "id": "7-DeDunw2sO-"
      }
    },
    {
      "cell_type": "code",
      "source": [
        "list1 = list((5, 6, 10, 16))\n",
        "list2 = [5, 6, 10, 16]\n",
        "print(list1)\n",
        "print(f\"Length = {len(list1)}\")"
      ],
      "metadata": {
        "id": "zxg06Uuxdyoh",
        "colab": {
          "base_uri": "https://localhost:8080/"
        },
        "outputId": "2c9381ba-4a9a-45d3-fc00-558ad6160963"
      },
      "execution_count": 11,
      "outputs": [
        {
          "output_type": "stream",
          "name": "stdout",
          "text": [
            "[5, 6, 10, 16]\n",
            "Length = 4\n"
          ]
        }
      ]
    },
    {
      "cell_type": "markdown",
      "source": [
        "10. Створіть два списка та за допомогою спеціального методу додайте другий з них в якості останнього елемента першого."
      ],
      "metadata": {
        "id": "8vmGUTjL22gI"
      }
    },
    {
      "cell_type": "code",
      "source": [
        "list3 = [12, 3, 5, 12]\n",
        "list4 = [0, 55, 6]\n",
        "list3.append(list4)\n",
        "print(list3)"
      ],
      "metadata": {
        "id": "uHtjWYw7d7hm",
        "colab": {
          "base_uri": "https://localhost:8080/"
        },
        "outputId": "738a7bed-9397-4c46-fbb6-c5d53f2c2e2f"
      },
      "execution_count": 12,
      "outputs": [
        {
          "output_type": "stream",
          "name": "stdout",
          "text": [
            "[12, 3, 5, 12, [0, 55, 6]]\n"
          ]
        }
      ]
    },
    {
      "cell_type": "markdown",
      "source": [
        "11. Створіть список, де елементами цього списку також є списки. Отримай перший елемент з останнього рядка та виведи значення на екран."
      ],
      "metadata": {
        "id": "JC3BkD-67_--"
      }
    },
    {
      "cell_type": "code",
      "source": [
        "list_of_lists = [[1, 2, 3],[4, 5, 6],[7, 8, 9, 10]]\n",
        "print(list_of_lists[- 1][0])"
      ],
      "metadata": {
        "id": "Kz2jZHsGeLlz",
        "colab": {
          "base_uri": "https://localhost:8080/"
        },
        "outputId": "28338b16-4354-4122-abeb-eac0a3b394e5"
      },
      "execution_count": 13,
      "outputs": [
        {
          "output_type": "stream",
          "name": "stdout",
          "text": [
            "7\n"
          ]
        }
      ]
    },
    {
      "cell_type": "markdown",
      "source": [
        "12. Створіть список з десяти елементів різного типу. Отримайте всі елементи, окрім двох перших та двох останніх та збережіть їх в новій змінній."
      ],
      "metadata": {
        "id": "JA47PKTv8zFK"
      }
    },
    {
      "cell_type": "code",
      "source": [
        "list5 = [1, 6.4, \"abc\", True, [1, 2, 3], 3, 12, \"a\", \"b\", (\"a\", \"b\", \"c\")]\n",
        "sliced_list = list5[2:-2]\n",
        "print(f\"Orginal list : {list5}\")\n",
        "print(f\"Sliced list : {sliced_list}\")"
      ],
      "metadata": {
        "id": "_rHdUR-ueP4-",
        "colab": {
          "base_uri": "https://localhost:8080/"
        },
        "outputId": "87faf391-85c3-48b6-c3db-b3dd88b456fd"
      },
      "execution_count": 14,
      "outputs": [
        {
          "output_type": "stream",
          "name": "stdout",
          "text": [
            "Orginal list : [1, 6.4, 'abc', True, [1, 2, 3], 3, 12, 'a', 'b', ('a', 'b', 'c')]\n",
            "Sliced list : ['abc', True, [1, 2, 3], 3, 12, 'a']\n"
          ]
        }
      ]
    },
    {
      "cell_type": "markdown",
      "source": [
        "# V. Робота з кортежами."
      ],
      "metadata": {
        "id": "pCjR1dJb1Qbi"
      }
    },
    {
      "cell_type": "markdown",
      "source": [
        "14. Створити кортеж з один елементом."
      ],
      "metadata": {
        "id": "fAZCxAX06R_k"
      }
    },
    {
      "cell_type": "code",
      "source": [
        "tuple1 = (1,)\n",
        "print(tuple1)"
      ],
      "metadata": {
        "id": "H7d82WkQev3e",
        "colab": {
          "base_uri": "https://localhost:8080/"
        },
        "outputId": "0296f969-f9e4-4181-ee22-719fc70628f5"
      },
      "execution_count": 15,
      "outputs": [
        {
          "output_type": "stream",
          "name": "stdout",
          "text": [
            "(1,)\n"
          ]
        }
      ]
    },
    {
      "cell_type": "markdown",
      "source": [
        "15. Порівняйте список та кортеж. Назвіть схожості та відмінності, випадки використання."
      ],
      "metadata": {
        "id": "8LCtYcmI6w1M"
      }
    },
    {
      "cell_type": "markdown",
      "source": [
        "Подібне:\n",
        "\n",
        "*   Призначені для збереження кількох значень\n",
        "*   Можна проходити по елементах за допомогою циклу\n",
        "*   Можна доступатись до елементів за індексом\n",
        "\n",
        "Відмінне:\n",
        "*   Визначення кортежу (,), а визначення списку []\n",
        "*   Список є змінною структурою даних, а кортеж незмінною\n",
        "*   Кортеж є білльш ефективним в плані швидкодії, оскільки є незмінним тож має менше затрат на операції з памʼяттю.\n",
        "\n",
        "Використання:\n",
        "Списки використовують для зберігання даних, які в майбутньому треба буде змінювати після створення структури даних.\n",
        "Кортежі використовуються для збереження даних, які не мінятимуться з моменту створення кортежу. Такими даними можуть бути константи, певні програмні структури, які потрібно убезпечити від випадкових змін.\n",
        "\n",
        "\n",
        "\n"
      ],
      "metadata": {
        "id": "fUsN1Hnue0C6"
      }
    },
    {
      "cell_type": "markdown",
      "source": [
        "16. Створіть кортеж з 11ти елементів чисел з рухомою комою та отримайте кожен парний за індексом елемент в зворотньому порядку. Наприклад, маючи (1.2, 2.3, 3.3, 4.3, 5.3, 6.3, 7.3, 8.3, 9.3, 0.3), отримати (0.3, 8.3, 6.3, 4.3, 2.3). Результат збережіть в нову змінну та виведіть на екран."
      ],
      "metadata": {
        "id": "m0xrwFijAmDD"
      }
    },
    {
      "cell_type": "code",
      "source": [
        "tuple2 = (0.1, 1.2, 2.3, 3.3, 4.3, 5.3, 6.3, 7.3, 8.3, 9.3, 0.3)\n",
        "tuple_sliced = tuple2[::-2]\n",
        "print(tuple_sliced)"
      ],
      "metadata": {
        "id": "p-5DAH6XfAGA",
        "colab": {
          "base_uri": "https://localhost:8080/"
        },
        "outputId": "6389a6e1-927f-420e-9ed8-e8a76dc0115e"
      },
      "execution_count": 16,
      "outputs": [
        {
          "output_type": "stream",
          "name": "stdout",
          "text": [
            "(0.3, 8.3, 6.3, 4.3, 2.3, 0.1)\n"
          ]
        }
      ]
    },
    {
      "cell_type": "markdown",
      "source": [
        "# VI. Множини (Set)."
      ],
      "metadata": {
        "id": "rW_I9dt3x6cW"
      }
    },
    {
      "cell_type": "markdown",
      "source": [
        "17. Створити множину без елементів. Після цого за допомогою методу додайте кілька різних елементів до множини. Чи множини є змінним типом даних?"
      ],
      "metadata": {
        "id": "zNjRLHLw1Bgg"
      }
    },
    {
      "cell_type": "code",
      "source": [
        "set1 = set()\n",
        "set1.add(1)\n",
        "set1.add(2.5)\n",
        "set1.add(\"abc\")\n",
        "print(set1)"
      ],
      "metadata": {
        "id": "KOv7zc2Kfo4N",
        "colab": {
          "base_uri": "https://localhost:8080/"
        },
        "outputId": "86a31d99-96e6-4083-b25a-55f9c398c24f"
      },
      "execution_count": 17,
      "outputs": [
        {
          "output_type": "stream",
          "name": "stdout",
          "text": [
            "{1, 2.5, 'abc'}\n"
          ]
        }
      ]
    },
    {
      "cell_type": "markdown",
      "source": [
        "Множини є змінним типом даних"
      ],
      "metadata": {
        "id": "vxS6dVYiftZQ"
      }
    },
    {
      "cell_type": "markdown",
      "source": [],
      "metadata": {
        "id": "uivKrAudiB3y"
      }
    },
    {
      "cell_type": "markdown",
      "source": [
        "18. Створити множину, маючи список my_list = [1, 1, 2, 67, 67, 8, 9]. Пояснити, чому \"зникли\" деякі елементи."
      ],
      "metadata": {
        "id": "gHpT0Zw_1HEF"
      }
    },
    {
      "cell_type": "code",
      "source": [
        "my_list = [1, 1, 2, 67, 67, 8, 9]\n",
        "converted_set = set(my_list)\n",
        "print(converted_set)"
      ],
      "metadata": {
        "id": "qCN4uvJ_fxmu",
        "colab": {
          "base_uri": "https://localhost:8080/"
        },
        "outputId": "fd123bc1-48ca-45b8-e9ff-6bc9f68b3305"
      },
      "execution_count": 18,
      "outputs": [
        {
          "output_type": "stream",
          "name": "stdout",
          "text": [
            "{1, 2, 67, 8, 9}\n"
          ]
        }
      ]
    },
    {
      "cell_type": "markdown",
      "source": [
        "Set - множина унікальних значень, при спробі додавання дублікату все одно лишається одне значення. В початковому списку числа 1 та 67 мали дублікати, в утвореній множині вони зустрічаються лише 1 раз та є унікальними в межах цієї множини."
      ],
      "metadata": {
        "id": "tFNc1e20fyny"
      }
    },
    {
      "cell_type": "markdown",
      "source": [
        "19. Створіть дві множини. Продемонстуйте над ними операції: обʼєднання, різниці, пересічі та симетричної різниці. Використовуйте методи, що не змінюють множини, а створюють нові."
      ],
      "metadata": {
        "id": "SRMkGizS1UwY"
      }
    },
    {
      "cell_type": "code",
      "source": [
        "set2 = {1, 2, 3, 6, 20}\n",
        "set3 = {5, 6, 7, 8, 20, 21}\n",
        "united = set2.union(set3)\n",
        "intersected = set2.intersection(set3)\n",
        "diff = set2.difference(set3)\n",
        "sym_diff = set2.symmetric_difference(set3)\n",
        "print(f\"Set 2 = {set2}\")\n",
        "print(f\"Set 3 = {set3}\")\n",
        "print(f\"Union = {united}\")\n",
        "print(f\"Intersection = {intersected}\")\n",
        "print(f\"Difference = {diff}\")\n",
        "print(f\"Symetric difference = {sym_diff}\")"
      ],
      "metadata": {
        "id": "h0T-VuDnf3Ri",
        "colab": {
          "base_uri": "https://localhost:8080/"
        },
        "outputId": "77998c4e-8dca-4d94-929a-b35f1586877f"
      },
      "execution_count": 19,
      "outputs": [
        {
          "output_type": "stream",
          "name": "stdout",
          "text": [
            "Set 2 = {1, 2, 3, 20, 6}\n",
            "Set 3 = {20, 5, 6, 7, 8, 21}\n",
            "Union = {1, 2, 3, 5, 6, 7, 8, 20, 21}\n",
            "Intersection = {20, 6}\n",
            "Difference = {1, 2, 3}\n",
            "Symetric difference = {1, 2, 3, 5, 7, 8, 21}\n"
          ]
        }
      ]
    },
    {
      "cell_type": "markdown",
      "source": [
        "# VII. Словники (Dictionary)."
      ],
      "metadata": {
        "id": "kWc8gkzTx7Ea"
      }
    },
    {
      "cell_type": "markdown",
      "source": [
        "20. Створіть пустий словник. До нього додайте чотири пари елементів такі, щоб їхні ключі були різних типів. Чи може список бути ключем? Чому?"
      ],
      "metadata": {
        "id": "i5FLwj-B2ybQ"
      }
    },
    {
      "cell_type": "code",
      "source": [
        "my_dictionary = {}\n",
        "my_dictionary[1] = \"Anna\"\n",
        "my_dictionary['a'] = \"Ivan\"\n",
        "my_dictionary[(1,2)] = \"Oleg\"\n",
        "my_dictionary[4.5] = \"Olga\"\n",
        "print(my_dictionary)"
      ],
      "metadata": {
        "id": "hxgv3BzrgLAV",
        "colab": {
          "base_uri": "https://localhost:8080/"
        },
        "outputId": "03b714aa-34ee-428a-93bb-61538f02f5d1"
      },
      "execution_count": 20,
      "outputs": [
        {
          "output_type": "stream",
          "name": "stdout",
          "text": [
            "{1: 'Anna', 'a': 'Ivan', (1, 2): 'Oleg', 4.5: 'Olga'}\n"
          ]
        }
      ]
    },
    {
      "cell_type": "markdown",
      "source": [
        "Ні, ми не можемо використати список в якості ключа. Ключ словника обовʼязково має бути hashable, вбудовані незмінні типи в python хешуються, а змінні, зокрема списки, не хешуються."
      ],
      "metadata": {
        "id": "zwa7UVN-gR3m"
      }
    },
    {
      "cell_type": "markdown",
      "source": [
        "21. Створіть словник, де значенням в одній з пар теж буде словник, який теж має вкладений словник. Виведіть на екран значення, що міститься в словнику, що знаходиться на найнижчому рівні ієрархії вкладеності (найбільш внутрішній)."
      ],
      "metadata": {
        "id": "WM_pMlJsgoNf"
      }
    },
    {
      "cell_type": "code",
      "source": [
        "complex_dictionary = {\"1a\": {\"2a\": {\"3a\": 225},\"2b\": 125},\"1b\": 25,\"1c\": 30}\n",
        "print(complex_dictionary[\"1a\"][\"2a\"][\"3a\"])"
      ],
      "metadata": {
        "id": "60dlP7IHhAy4",
        "colab": {
          "base_uri": "https://localhost:8080/"
        },
        "outputId": "30888c9e-251a-4e42-bb64-074f218dcc57"
      },
      "execution_count": 21,
      "outputs": [
        {
          "output_type": "stream",
          "name": "stdout",
          "text": [
            "225\n"
          ]
        }
      ]
    },
    {
      "cell_type": "markdown",
      "source": [
        "# Вітаю! Ви велика(ий) молодець, що впоралась(вся). Похваліть себе та побалуйте чимось приємним. Я Вами пишаюся."
      ],
      "metadata": {
        "id": "xOZP0hkx6cCr"
      }
    }
  ]
}